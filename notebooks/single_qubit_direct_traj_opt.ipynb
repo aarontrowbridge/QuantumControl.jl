{
 "cells": [
  {
   "cell_type": "code",
   "execution_count": 1,
   "metadata": {
    "vscode": {
     "languageId": "julia"
    }
   },
   "outputs": [],
   "source": [
    "using DirectTrajectoryOptimization\n",
    "using LinearAlgebra\n",
    "using CairoMakie"
   ]
  },
  {
   "cell_type": "markdown",
   "metadata": {},
   "source": [
    "Setting up quantum optimal control problem for a single qubit with Hamiltonian given by\n",
    "\n",
    "$$\n",
    "H(a(t)) = H_{\\text{drift}} + a(t) H_{\\text{drive}}\n",
    "$$ \n",
    "\n",
    "where $H_{\\text{drift}} = \\sigma_z$ and $H_{\\text{drive}} = \\sigma_x$.\n",
    "\n",
    "We will also define the qubit basis kets (unit vectors in $\\mathbb{C}^2$) $\\ket{0}$ and $\\ket{1}$."
   ]
  },
  {
   "cell_type": "code",
   "execution_count": 2,
   "metadata": {
    "vscode": {
     "languageId": "julia"
    }
   },
   "outputs": [],
   "source": [
    "X = [\n",
    "    0 1;\n",
    "    1 0\n",
    "]\n",
    "\n",
    "Y = [\n",
    "    0 -im;\n",
    "    im 0\n",
    "]\n",
    "\n",
    "Z = [\n",
    "    1 0;\n",
    "    0 -1\n",
    "]\n",
    "\n",
    "f = 0.5\n",
    "\n",
    "H_drift = f * Z\n",
    "\n",
    "H_drive = X\n",
    "\n",
    "ψ0 = [1, 0]\n",
    "ψ1 = [0, 1];\n"
   ]
  },
  {
   "cell_type": "markdown",
   "metadata": {},
   "source": [
    "below will define the specific problem we will solve:"
   ]
  },
  {
   "cell_type": "code",
   "execution_count": 3,
   "metadata": {
    "vscode": {
     "languageId": "julia"
    }
   },
   "outputs": [
    {
     "data": {
      "text/plain": [
       "2-element Vector{Int64}:\n",
       " 0\n",
       " 1"
      ]
     },
     "execution_count": 3,
     "metadata": {},
     "output_type": "execute_result"
    }
   ],
   "source": [
    "gate = X\n",
    "ψi = ψ0\n",
    "ψf = X * ψi"
   ]
  },
  {
   "cell_type": "markdown",
   "metadata": {},
   "source": [
    "Now we define the time-dependent Schroedinger equation dynamics:\n",
    "\n",
    "$$\n",
    "{d \\over dt} \\ket{\\psi} = -i H \\ket{\\psi}\n",
    "$$\n",
    "\n",
    "Here we use the isomorphism $\\mathbb{C}^2 \\cong \\mathbb{R}^4$ \n",
    "\n",
    "$$\n",
    "\\ket{\\psi} \\equiv \\begin{pmatrix} \\psi_0 \\\\ \\psi_1 \\end{pmatrix} \\cong \\begin{pmatrix} \\psi_0^{\\textrm{Re}} \\\\ \\psi_0^{\\textrm{Im}} \\\\ \\psi_1^{\\textrm{Re}} \\\\ \\psi_1^{\\textrm{Im}} \\\\ \\end{pmatrix} \\equiv \\tilde \\psi\n",
    "$$\n",
    "\n",
    "and for a matrix $H \\in \\mathbb{C}^{2 \\times 2}$\n",
    "\n",
    "$$\n",
    "\\tilde H = \\begin{pmatrix} H^{\\textrm{Re}} & -H^{\\textrm{Im}} \\\\ H^{\\textrm{Im}} & H^{\\textrm{Re}} \\end{pmatrix} \n",
    "= \\begin{pmatrix} 1 & 0 \\\\ 0 & 1 \\end{pmatrix} \\otimes H^{\\textrm{Re}} + \\begin{pmatrix} 0 & -1 \\\\ 1 & 0 \\end{pmatrix} \\otimes H^{\\textrm{Im}}\n",
    "$$\n",
    "\n",
    "which implies that for a matrix in the form $-i H$\n",
    "$$\n",
    "G(H) \\equiv \\widetilde{\\left( -i H \\right)} = \\begin{pmatrix} 1 & 0 \\\\ 0 & 1 \\end{pmatrix} \\otimes H^{\\textrm{Im}} - \\begin{pmatrix} 0 & -1 \\\\ 1 & 0 \\end{pmatrix} \\otimes H^{\\textrm{Re}}\n",
    "$$\n",
    "\n",
    "In our case $G$ (named for the generator of time translation) can be written as\n",
    "\n",
    "$$\n",
    "G \\equiv G(H(a(t))) = G(H_{\\textrm{drift}}) + a(t)G(H_{\\textrm{drive}})\n",
    "$$\n",
    "\n",
    "Now we can write the isomorphic dynamics equation:\n",
    "\n",
    "$$\n",
    "\\begin{equation}\n",
    "{d \\over dt} \\tilde \\psi = G \\ \\tilde \\psi\n",
    "\\end{equation}\n",
    "$$"
   ]
  },
  {
   "cell_type": "markdown",
   "metadata": {},
   "source": [
    "Let's now define functions to compute these isomorphisms, as well as get the real and imaginary parts of the Hamiltonian:"
   ]
  },
  {
   "cell_type": "code",
   "execution_count": 4,
   "metadata": {
    "vscode": {
     "languageId": "julia"
    }
   },
   "outputs": [],
   "source": [
    "ket_to_iso(ψ) = [real(ψ); imag(ψ)]\n",
    "iso_to_ket(ψ̃) = [ψ̃[1] + im * ψ̃[2], ψ̃[3] + im * ψ̃[4]]\n",
    "\n",
    "Id2 = I(2)\n",
    "Im2 = [\n",
    "    0 -1; \n",
    "    1  0\n",
    "]\n",
    "\n",
    "⊗(A, B) = kron(A, B)\n",
    "\n",
    "G(H) = Id2 ⊗ imag(H) - Im2 ⊗ real(H) \n",
    "\n",
    "G_drift = G(H_drift)\n",
    "G_drive = G(H_drive);"
   ]
  },
  {
   "cell_type": "markdown",
   "metadata": {},
   "source": [
    "and define the dynamics:"
   ]
  },
  {
   "cell_type": "code",
   "execution_count": 5,
   "metadata": {
    "vscode": {
     "languageId": "julia"
    }
   },
   "outputs": [
    {
     "data": {
      "text/plain": [
       "schroedinger (generic function with 1 method)"
      ]
     },
     "execution_count": 5,
     "metadata": {},
     "output_type": "execute_result"
    }
   ],
   "source": [
    "schroedinger(x, u, w) = (G_drift + u[1] * G_drive) * x"
   ]
  },
  {
   "cell_type": "code",
   "execution_count": 6,
   "metadata": {
    "vscode": {
     "languageId": "julia"
    }
   },
   "outputs": [],
   "source": [
    "xi = ket_to_iso(ψi)\n",
    "xf = ket_to_iso(ψf);"
   ]
  },
  {
   "cell_type": "code",
   "execution_count": 7,
   "metadata": {
    "vscode": {
     "languageId": "julia"
    }
   },
   "outputs": [
    {
     "data": {
      "text/plain": [
       "costf (generic function with 1 method)"
      ]
     },
     "execution_count": 7,
     "metadata": {},
     "output_type": "execute_result"
    }
   ],
   "source": [
    "function cost(x, xf)\n",
    "    ψ = iso_to_ket(x)\n",
    "    ψf = iso_to_ket(xf)\n",
    "    return min(abs(1 - ψ'ψf), abs(1 + ψ'ψf))\n",
    "end\n",
    "\n",
    "costi(x) = cost(x, xi)\n",
    "costf(x) = cost(x, xf)"
   ]
  },
  {
   "cell_type": "code",
   "execution_count": 8,
   "metadata": {
    "vscode": {
     "languageId": "julia"
    }
   },
   "outputs": [
    {
     "data": {
      "text/plain": [
       "midpoint_implicit (generic function with 1 method)"
      ]
     },
     "execution_count": 8,
     "metadata": {},
     "output_type": "execute_result"
    }
   ],
   "source": [
    "function midpoint_implicit(y, x, u, w)\n",
    "    h = 0.01\n",
    "    return y - (x + h * schroedinger(0.5 * (x + y), u, w))\n",
    "end"
   ]
  },
  {
   "cell_type": "code",
   "execution_count": 9,
   "metadata": {
    "vscode": {
     "languageId": "julia"
    }
   },
   "outputs": [],
   "source": [
    "T = 11\n",
    "num_state = 4\n",
    "num_action = 1\n",
    "eval_hess=true;"
   ]
  },
  {
   "cell_type": "code",
   "execution_count": 10,
   "metadata": {
    "vscode": {
     "languageId": "julia"
    }
   },
   "outputs": [],
   "source": [
    "dt = Dynamics(\n",
    "    midpoint_implicit,\n",
    "    num_state,\n",
    "    num_state,\n",
    "    num_action,\n",
    "    evaluate_hessian=eval_hess\n",
    ")\n",
    "dynamics = [dt for t = 1:T-1];"
   ]
  },
  {
   "cell_type": "code",
   "execution_count": 11,
   "metadata": {
    "vscode": {
     "languageId": "julia"
    }
   },
   "outputs": [],
   "source": [
    "ot = (x, u, w) -> costf(x) .+ 0.1 * dot(u, u)\n",
    "oT = (x, u, w) -> costf(x)\n",
    "ct = Cost(ot, num_state, num_action; evaluate_hessian=eval_hess)\n",
    "cT = Cost(oT, num_state, num_action; evaluate_hessian=eval_hess)\n",
    "objective = [[ct for t = 1:T-1]; cT];"
   ]
  },
  {
   "cell_type": "code",
   "execution_count": 12,
   "metadata": {
    "vscode": {
     "languageId": "julia"
    }
   },
   "outputs": [],
   "source": [
    "bnd1 = Bound(num_state, num_action)\n",
    "bndt = Bound(num_state, num_action)\n",
    "bndT = Bound(num_state, 0)\n",
    "bounds = [bnd1, [bndt for t = 2:T-1]..., bndT];"
   ]
  },
  {
   "cell_type": "code",
   "execution_count": 13,
   "metadata": {
    "vscode": {
     "languageId": "julia"
    }
   },
   "outputs": [],
   "source": [
    "con1 = Constraint((x, u, w) -> [costi(x)], num_state, num_action, evaluate_hessian=eval_hess)\n",
    "conT = Constraint((x, u, w) -> [costf(x)], num_state, num_action, evaluate_hessian=eval_hess) \n",
    "constraints = [con1; [Constraint() for t = 2:T-1]; conT];"
   ]
  },
  {
   "cell_type": "code",
   "execution_count": 14,
   "metadata": {
    "vscode": {
     "languageId": "julia"
    }
   },
   "outputs": [],
   "source": [
    "solver = Solver(dynamics, objective, constraints, bounds);"
   ]
  },
  {
   "cell_type": "code",
   "execution_count": 15,
   "metadata": {
    "vscode": {
     "languageId": "julia"
    }
   },
   "outputs": [
    {
     "name": "stdout",
     "output_type": "stream",
     "text": [
      "\n",
      "******************************************************************************\n",
      "This program contains Ipopt, a library for large-scale nonlinear optimization.\n",
      " Ipopt is released as open source code under the Eclipse Public License (EPL).\n",
      "         For more information visit https://github.com/coin-or/Ipopt\n",
      "******************************************************************************\n",
      "\n",
      "This is Ipopt version 3.14.4, running with linear solver MUMPS 5.4.1.\n",
      "\n",
      "Number of nonzeros in equality constraint Jacobian...:      284\n",
      "Number of nonzeros in inequality constraint Jacobian.:        0\n",
      "Number of nonzeros in Lagrangian Hessian.............:        0\n",
      "\n"
     ]
    },
    {
     "ename": "LoadError",
     "evalue": "DimensionMismatch(\"array could not be broadcast to match destination\")",
     "output_type": "error",
     "traceback": [
      "DimensionMismatch(\"array could not be broadcast to match destination\")",
      "",
      "Stacktrace:",
      "  [1] check_broadcast_shape",
      "    @ ./broadcast.jl:540 [inlined]",
      "  [2] check_broadcast_axes",
      "    @ ./broadcast.jl:543 [inlined]",
      "  [3] check_broadcast_axes",
      "    @ ./broadcast.jl:547 [inlined]",
      "  [4] instantiate",
      "    @ ./broadcast.jl:284 [inlined]",
      "  [5] materialize!",
      "    @ ./broadcast.jl:871 [inlined]",
      "  [6] materialize!",
      "    @ ./broadcast.jl:868 [inlined]",
      "  [7] gradient!(gradient::Vector{Float64}, indices::Vector{Vector{Int64}}, objective::Vector{Cost{Float64}}, states::Vector{Vector{Float64}}, actions::Vector{Vector{Float64}}, parameters::Vector{Vector{Float64}})",
      "    @ DirectTrajectoryOptimization ~/.julia/packages/DirectTrajectoryOptimization/myLcf/src/costs.jl:61",
      "  [8] eval_objective_gradient(nlp::DirectTrajectoryOptimization.NLPData{Float64}, gradient::Vector{Float64}, variables::Vector{Float64})",
      "    @ DirectTrajectoryOptimization ~/.julia/packages/DirectTrajectoryOptimization/myLcf/src/moi.jl:23",
      "  [9] _eval_objective_gradient(model::Ipopt.Optimizer, grad::Vector{Float64}, x::Vector{Float64})",
      "    @ Ipopt ~/.julia/packages/Ipopt/M2QE8/src/MOI_wrapper.jl:865",
      " [10] (::Ipopt.var\"#eval_grad_f_cb#4\"{Ipopt.Optimizer})(x::Vector{Float64}, grad_f::Vector{Float64})",
      "    @ Ipopt ~/.julia/packages/Ipopt/M2QE8/src/MOI_wrapper.jl:1087",
      " [11] _Eval_Grad_F_CB(n::Int32, x_ptr::Ptr{Float64}, #unused#::Int32, grad_f::Ptr{Float64}, user_data::Ptr{Nothing})",
      "    @ Ipopt ~/.julia/packages/Ipopt/M2QE8/src/C_wrapper.jl:49",
      " [12] IpoptSolve(prob::Ipopt.IpoptProblem)",
      "    @ Ipopt ~/.julia/packages/Ipopt/M2QE8/src/C_wrapper.jl:433",
      " [13] optimize!(model::Ipopt.Optimizer)",
      "    @ Ipopt ~/.julia/packages/Ipopt/M2QE8/src/MOI_wrapper.jl:1225",
      " [14] solve!(solver::Solver{Float64})",
      "    @ DirectTrajectoryOptimization ~/.julia/packages/DirectTrajectoryOptimization/myLcf/src/solver.jl:46",
      " [15] top-level scope",
      "    @ In[15]:1",
      " [16] eval",
      "    @ ./boot.jl:373 [inlined]",
      " [17] include_string(mapexpr::typeof(REPL.softscope), mod::Module, code::String, filename::String)",
      "    @ Base ./loading.jl:1196"
     ]
    }
   ],
   "source": [
    "solve!(solver)"
   ]
  },
  {
   "cell_type": "code",
   "execution_count": null,
   "metadata": {
    "vscode": {
     "languageId": "julia"
    }
   },
   "outputs": [],
   "source": []
  }
 ],
 "metadata": {
  "language_info": {
   "name": "python"
  },
  "orig_nbformat": 4
 },
 "nbformat": 4,
 "nbformat_minor": 2
}
