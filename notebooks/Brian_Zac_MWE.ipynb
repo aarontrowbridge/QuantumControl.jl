{
 "cells": [
  {
   "cell_type": "code",
   "execution_count": null,
   "id": "66577507",
   "metadata": {},
   "outputs": [],
   "source": [
    "import cmath\n",
    "import numpy as np\n",
    "from scipy.interpolate import interp1d\n",
    "import matplotlib.pyplot as plt\n",
    "from qutip import qeye, propagator, tensor, Qobj, sesolve, basis, sigmax, sigmay, sigmaz, Options"
   ]
  },
  {
   "cell_type": "code",
   "execution_count": null,
   "id": "1a49cf33",
   "metadata": {},
   "outputs": [],
   "source": [
    "ZA = tensor(sigmaz(), qeye(2))\n",
    "ZB = tensor(qeye(2), sigmaz())\n",
    "\n",
    "sqrt2 = np.sqrt(2.0)\n",
    "sqrtiSWAP = np.array([[1.0, 0.0, 0.0, 0.0],\n",
    "                      [0.0, 1/sqrt2, -1j/sqrt2, 0.0],\n",
    "                      [0.0, -1j/sqrt2, 1/sqrt2, 0.0],\n",
    "                      [0.0, 0.0, 0.0, 1.0]])\n",
    "sqrtiSWAP_Q = Qobj(sqrtiSWAP)\n",
    "\n",
    "H_0_ = np.genfromtxt('H_0.txt')\n",
    "XX_ = np.genfromtxt('XX.txt')\n",
    "H_0 = Qobj(H_0_)\n",
    "XX = Qobj(XX_)\n",
    "omega_a = np.real(H_0[2, 2])\n",
    "omega_b = np.real(H_0[1, 1])"
   ]
  },
  {
   "cell_type": "code",
   "execution_count": null,
   "id": "7c40c490",
   "metadata": {},
   "outputs": [],
   "source": [
    "def RZ(theta, Z_):\n",
    "    \"\"\"single qubit Z rotations\"\"\"\n",
    "    return Qobj((-1j * theta * Z_ / 2.0).expm().data,dims=[[4],[4]])\n",
    "\n",
    "\n",
    "def fix_w_single_q_gates(gate_):\n",
    "    \"\"\"fix propagator at the final time to the propagator we want (sqrtiSWAP)\"\"\"\n",
    "    alpha = cmath.phase(gate_[0,0])\n",
    "    beta = cmath.phase(gate_[1,1])\n",
    "    gamma = cmath.phase(gate_[1,2])\n",
    "    return np.array([alpha + beta, alpha - gamma - np.pi/2, -beta + gamma + np.pi/2])\n",
    "\n",
    "\n",
    "def multiply_with_single_q_gates(gate):\n",
    "    \"\"\"perform single qubit Z gate multiplication\"\"\"\n",
    "    (t1, t2, t3) = fix_w_single_q_gates(gate)\n",
    "    gate_ = Qobj(gate[0:4, 0:4])\n",
    "    return RZ(t1, ZA) * RZ(t2, ZB) * gate_ * RZ(0, ZA) * RZ(t3, ZB)\n",
    "\n",
    "\n",
    "def calc_fidel_4(prop, gate):\n",
    "    \"\"\"calculate fidelity. From Pedersen et al. Phys. Lett. A 367, 47 (2007)\"\"\"\n",
    "    prop = Qobj(prop[0:4, 0:4])\n",
    "    return np.real((np.trace(prop.dag() * prop) + np.abs(np.trace(prop.dag() * gate))**2) / 20)\n",
    "\n",
    "\n",
    "def amp_from_omega_sqrtiswap(omega, omega_d, n=1):\n",
    "    \"\"\"given effective qubit frequency omega and drive \n",
    "    frequency omega_d return the amplitude that yields half\n",
    "    population transfer. Based on a Magnus expansion assuming \n",
    "    small amplitude compared to the qubit frequency.\"\"\"\n",
    "    return 0.125 * np.pi * (omega_d ** 2 - omega ** 2) / (omega_d * np.sin(n * np.pi * omega / omega_d))"
   ]
  },
  {
   "cell_type": "code",
   "execution_count": null,
   "id": "a49d8772",
   "metadata": {},
   "outputs": [],
   "source": [
    "# change the below to 4 to observe dynamics in the qubit subspace, with other\n",
    "# levels unphysically truncated away. \n",
    "red_dim = 4\n",
    "full_dim = 50\n",
    "# considering only the qubit subspace, because the drive operator \n",
    "# looks like XX, in some sense this problem looks like two separate \n",
    "# spin 1/2 problems. omega_p and omega_m define the \"effective\" qubit frequencies\n",
    "omega_p = omega_a+omega_b\n",
    "omega_m = np.abs(omega_b-omega_a)\n",
    "# drive frequency\n",
    "omega_d = omega_p / 4\n",
    "# only one drive period. An analytic solution to my problem is to drive for longer and\n",
    "# weaker (weaker drive mitigates this issue). But short pulses are better!\n",
    "n = 1\n",
    "control_dt = 2.0\n",
    "amp = amp_from_omega_sqrtiswap(omega_m, omega_d, n=n)\n",
    "# the pulse is simply n periods of a sinusoid\n",
    "twoq_control_eval_times = np.linspace(0.0, n * 2.0 * np.pi/omega_d, \n",
    "                                      int(n * 2.0 * np.pi/omega_d/control_dt) + 1)\n",
    "controls = amp * np.sin(omega_d * twoq_control_eval_times)\n",
    "controls_spline = interp1d(twoq_control_eval_times, controls, fill_value='extrapolate')\n",
    "def control_func_c(t, args=None):\n",
    "    return controls_spline(t)\n",
    "# specify the Hamiltonian as a static part plus the drive part, along with its time dependence\n",
    "H_full = [H_0, [XX, control_func_c]]\n",
    "twoq_prop_full = propagator(H_full, twoq_control_eval_times)\n",
    "result_full_00 = sesolve(H_full, basis(full_dim, 0), twoq_control_eval_times, options=Options(store_states=True))\n",
    "result_full_01 = sesolve(H_full, basis(full_dim, 1), twoq_control_eval_times, options=Options(store_states=True))\n",
    "result_full_10 = sesolve(H_full, basis(full_dim, 2), twoq_control_eval_times, options=Options(store_states=True))\n",
    "result_full_11 = sesolve(H_full, basis(full_dim, 3), twoq_control_eval_times, options=Options(store_states=True))\n",
    "# compare with reduced dimension\n",
    "H_red = [Qobj(H_0[0:red_dim, 0:red_dim]), [Qobj(XX[0:red_dim,0:red_dim]), control_func_c]]\n",
    "twoq_prop_red = propagator(H_red, twoq_control_eval_times)\n",
    "result_red_00 = sesolve(H_red, basis(red_dim, 0), twoq_control_eval_times, options=Options(store_states=True))\n",
    "result_red_01 = sesolve(H_red, basis(red_dim, 1), twoq_control_eval_times, options=Options(store_states=True))\n",
    "result_red_10 = sesolve(H_red, basis(red_dim, 2), twoq_control_eval_times, options=Options(store_states=True))\n",
    "result_red_11 = sesolve(H_red, basis(red_dim, 3), twoq_control_eval_times, options=Options(store_states=True))"
   ]
  },
  {
   "cell_type": "code",
   "execution_count": null,
   "id": "f9dba1a7",
   "metadata": {},
   "outputs": [],
   "source": [
    "# calculate the error as a function of time\n",
    "error_fidel_array = np.zeros_like(twoq_control_eval_times)\n",
    "error_00_array = np.zeros_like(twoq_control_eval_times)\n",
    "error_01_array = np.zeros_like(twoq_control_eval_times)\n",
    "error_10_array = np.zeros_like(twoq_control_eval_times)\n",
    "error_11_array = np.zeros_like(twoq_control_eval_times)\n",
    "for i, time in enumerate(twoq_control_eval_times):\n",
    "    error_fidel_array[i] = 1 - calc_fidel_4(twoq_prop_full[i], twoq_prop_red[i])\n",
    "    error_00_array[i] = 1 - np.abs(result_red_00.states[i].overlap(Qobj(result_full_00.states[i][0:4])))**2\n",
    "    error_01_array[i] = 1 - np.abs(result_red_01.states[i].overlap(Qobj(result_full_01.states[i][0:4])))**2\n",
    "    error_10_array[i] = 1 - np.abs(result_red_10.states[i].overlap(Qobj(result_full_10.states[i][0:4])))**2\n",
    "    error_11_array[i] = 1 - np.abs(result_red_11.states[i].overlap(Qobj(result_full_11.states[i][0:4])))**2"
   ]
  },
  {
   "cell_type": "code",
   "execution_count": null,
   "id": "75035670",
   "metadata": {},
   "outputs": [],
   "source": [
    "fig, ax = plt.subplots(figsize=(8, 6))\n",
    "plt.plot(twoq_control_eval_times, error_fidel_array, label='infidelity')\n",
    "plt.plot(twoq_control_eval_times, error_00_array, label='00 error', linestyle='dashed')\n",
    "plt.plot(twoq_control_eval_times, error_01_array, label='01 error', linestyle='dashed')\n",
    "plt.plot(twoq_control_eval_times, error_10_array, label='10 error', linestyle='dashed')\n",
    "plt.plot(twoq_control_eval_times, error_11_array, label='11 error', linestyle='dashed')\n",
    "ax.tick_params(labelsize=15)\n",
    "ax.legend()\n",
    "plt.xlabel('t [ns]', fontsize=20)\n",
    "plt.ylabel('error', fontsize=20)\n",
    "plt.show()"
   ]
  },
  {
   "cell_type": "code",
   "execution_count": null,
   "id": "b0f42918",
   "metadata": {},
   "outputs": [],
   "source": []
  }
 ],
 "metadata": {
  "kernelspec": {
   "display_name": "Python 3.9.12 ('QOC')",
   "language": "python",
   "name": "python3"
  },
  "language_info": {
   "codemirror_mode": {
    "name": "ipython",
    "version": 3
   },
   "file_extension": ".py",
   "mimetype": "text/x-python",
   "name": "python",
   "nbconvert_exporter": "python",
   "pygments_lexer": "ipython3",
   "version": "3.9.12"
  },
  "vscode": {
   "interpreter": {
    "hash": "2beb3166ab1b4525f513c9f76866efd4beb1281f29ca874c0ba7631aa4a6ad5e"
   }
  }
 },
 "nbformat": 4,
 "nbformat_minor": 5
}
